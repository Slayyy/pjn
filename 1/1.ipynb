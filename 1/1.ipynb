{
 "cells": [
  {
   "cell_type": "code",
   "execution_count": 23,
   "metadata": {},
   "outputs": [],
   "source": [
    "YEAR = \"2017\""
   ]
  },
  {
   "cell_type": "code",
   "execution_count": 24,
   "metadata": {
    "collapsed": true
   },
   "outputs": [],
   "source": [
    "import glob\n",
    "import json\n",
    "import pathlib\n",
    "import sys\n",
    "import re\n",
    "from decimal import *\n",
    "import matplotlib.pyplot as plt\n",
    "import numpy as np"
   ]
  },
  {
   "cell_type": "code",
   "execution_count": 25,
   "metadata": {
    "collapsed": true
   },
   "outputs": [],
   "source": [
    "def read_judgments_jsons(files):\n",
    "    for path in files:\n",
    "        yield json.loads(pathlib.Path(path).read_text())\n",
    "\n",
    "\n",
    "def items_from_judgments_jsons(judgments):\n",
    "    for judgment in judgments:\n",
    "        for item in judgment[\"items\"]:\n",
    "            yield item\n",
    "\n",
    "\n",
    "def is_correct_judgment_year(year):\n",
    "    return lambda item:item[\"judgmentDate\"][:4] == year"
   ]
  },
  {
   "cell_type": "code",
   "execution_count": 26,
   "metadata": {
    "collapsed": true
   },
   "outputs": [],
   "source": [
    "def get_multiplier(expression):\n",
    "    word_to_multiplier_tuples = {\n",
    "        (\"tysiąc\", \"tysiące\", \"tysiąca\", \"tysięcy\", \"tys\", \"tys.\"): 10**3,\n",
    "        (\"milion\", \"miliony\", \"miliona\", \"milionów\", \"mln\" , \"mln.\"): 10**6,\n",
    "        (\"miliard\", \"miliardy\", \"miliarda\", \"miliardów\", \"mld\", \"mld.\"): 10**9\n",
    "    }\n",
    "    word_to_multiplier = {\n",
    "        word: multiplier\n",
    "        for tup, multiplier in word_to_multiplier_tuples.items()\n",
    "        for word in tup\n",
    "    }\n",
    "\n",
    "    for current_word in word_to_multiplier:\n",
    "        if re.search(\"{}\".format(current_word), expression):\n",
    "            return word_to_multiplier[current_word]\n",
    "\n",
    "    return 1\n",
    "\n",
    "def extract_money_amounts_from_text(text):\n",
    "    number_catch_group = r\"(\\d[\\d,\\.\\s]*)\"\n",
    "    potential_multiplier = r\"(\\s\\w+\\s)?\"\n",
    "    round_brackets = r\"(\\([^\\)]*?\\))?\"\n",
    "\n",
    "    regex = r\"{number_catch_group}\\s*?{potential_multiplier}\\s*?{round_brackets}\\s*?{potential_multiplier}\\s*?zł\".format(\n",
    "        number_catch_group=number_catch_group,\n",
    "        potential_multiplier=potential_multiplier,\n",
    "        round_brackets=round_brackets\n",
    "    )\n",
    "\n",
    "    for match in re.finditer(regex, text):\n",
    "        try:\n",
    "            if match.group(0).find(\"starych\") != -1:\n",
    "                continue\n",
    "\n",
    "            # print(match.group(0), end=\"\")\n",
    "            number = match.group(1)\n",
    "\n",
    "            # remove unecessary dots\n",
    "            number = number.replace(\".\", \"\")\n",
    "\n",
    "            # convert polish ',' decimal seperator to english\n",
    "            number = number.replace(\",\", \".\")\n",
    "\n",
    "            # remove whitespaces between digits\n",
    "            number = re.sub(r\"\\s\", \"\", number)\n",
    "            dec = Decimal(number)\n",
    "\n",
    "\n",
    "            m = match.group(0)\n",
    "            # remove round brackets\n",
    "            m = re.sub(\"\\(.*?\\)\", \"\", m)\n",
    "\n",
    "            # print(\"    \" + m + \"    \", end=\"\")\n",
    "\n",
    "            multiplier = get_multiplier(m)\n",
    "            money_amount = int(dec * multiplier)\n",
    "\n",
    "            if money_amount > 10**14:\n",
    "                continue\n",
    "\n",
    "\n",
    "            yield money_amount\n",
    "        except Exception as e:\n",
    "            pass\n",
    "            #print(\"{} for \\\"{}\\\" match\".format(e, match.group(0)), file=sys.stderr)"
   ]
  },
  {
   "cell_type": "code",
   "execution_count": 27,
   "metadata": {
    "collapsed": true
   },
   "outputs": [],
   "source": [
    "def show_histogram(name, data, bins):\n",
    "    plt.hist(data, bins)\n",
    "    plt.gca().set_xscale(\"log\")\n",
    "\n",
    "    plt.title(name)\n",
    "    plt.xlabel(\"Money values\")\n",
    "    plt.ylabel(\"Occurrences\")\n",
    "    plt.grid(True)\n",
    "    plt.show()"
   ]
  },
  {
   "cell_type": "code",
   "execution_count": 28,
   "metadata": {},
   "outputs": [
    {
     "name": "stdout",
     "output_type": "stream",
     "text": [
      "694704\n"
     ]
    }
   ],
   "source": [
    "files = glob.glob(\"data/json/judgments*.json\")\n",
    "\n",
    "judgments_jsons = read_judgments_jsons(files)\n",
    "items = items_from_judgments_jsons(judgments_jsons)\n",
    "\n",
    "money_amounts = []\n",
    "\n",
    "for item in filter(is_correct_judgment_year(YEAR), items):\n",
    "    text_content = item[\"textContent\"]\n",
    "    money_amounts.extend(extract_money_amounts_from_text(text_content))\n",
    "\n",
    "print(len(money_amounts))"
   ]
  },
  {
   "cell_type": "code",
   "execution_count": 29,
   "metadata": {},
   "outputs": [
    {
     "data": {
      "image/png": "[encoded data removed]",
      "text/plain": [
       "<matplotlib.figure.Figure at 0x7f0b87286860>"
      ]
     },
     "metadata": {},
     "output_type": "display_data"
    }
   ],
   "source": [
    "show_histogram(\"All\", money_amounts, bins=np.logspace(0, 16, 200))"
   ]
  },
  {
   "cell_type": "code",
   "execution_count": 30,
   "metadata": {},
   "outputs": [
    {
     "data": {
      "image/png": "[encoded data removed]",
      "text/plain": [
       "<matplotlib.figure.Figure at 0x7f0b98034208>"
      ]
     },
     "metadata": {},
     "output_type": "display_data"
    }
   ],
   "source": [
    "show_histogram(\"< 1 000 000\",\n",
    "               [x for x in money_amounts if x < 10**6],\n",
    "               bins=np.logspace(0, 6, 200))"
   ]
  },
  {
   "cell_type": "code",
   "execution_count": 31,
   "metadata": {},
   "outputs": [
    {
     "data": {
      "image/png": "[encoded data removed]",
      "text/plain": [
       "<matplotlib.figure.Figure at 0x7f0b86d012e8>"
      ]
     },
     "metadata": {},
     "output_type": "display_data"
    }
   ],
   "source": [
    "show_histogram(\"> 1 000 000\", \n",
    "               [x for x in money_amounts if x > 10**6],\n",
    "               bins=np.logspace(6, 16, 200))"
   ]
  },
  {
   "cell_type": "code",
   "execution_count": null,
   "metadata": {
    "collapsed": true
   },
   "outputs": [],
   "source": [
    "judgments_jsons = read_judgments_jsons(files)\n",
    "items = items_from_judgments_jsons(judgments_jsons)\n",
    "for item in filter(is_correct_judgment_year(YEAR), items):\n",
    "    text_content = item[\"textContent\"]"
   ]
  },
  {
   "cell_type": "code",
   "execution_count": 32,
   "metadata": {},
   "outputs": [
    {
     "name": "stdout",
     "output_type": "stream",
     "text": [
      "19302 / 44719\n"
     ]
    }
   ],
   "source": [
    "number_of_judgments = 0\n",
    "number_of_judgments_containing_given_word = 0\n",
    "\n",
    "judgments_jsons = read_judgments_jsons(files)\n",
    "items = items_from_judgments_jsons(judgments_jsons)\n",
    "for item in filter(is_correct_judgment_year(YEAR), items):\n",
    "    text_content = item[\"textContent\"]\n",
    "    word_forms = (\n",
    "        \"szkoda\", \n",
    "        \"szkodą\", \n",
    "        \"szkodę\", \n",
    "        \"szkodo\", \n",
    "        \"szkody\", \n",
    "        \"szkodzie\", \n",
    "        \"szkodach\", \n",
    "        \"szkodami\", \n",
    "        \"szkodom\", \n",
    "        \"szkód\"\n",
    "    )\n",
    "\n",
    "    if re.search(\"|\".join(word_forms), text_content):\n",
    "        number_of_judgments_containing_given_word += 1\n",
    "    number_of_judgments += 1\n",
    "    \n",
    "print(r\"{} / {}\".format(number_of_judgments_containing_given_word, number_of_judgments))"
   ]
  }
 ],
 "metadata": {
  "kernelspec": {
   "display_name": "Python 3",
   "language": "python",
   "name": "python3"
  },
  "language_info": {
   "codemirror_mode": {
    "name": "ipython",
    "version": 3
   },
   "file_extension": ".py",
   "mimetype": "text/x-python",
   "name": "python",
   "nbconvert_exporter": "python",
   "pygments_lexer": "ipython3",
   "version": "3.6.4"
  }
 },
 "nbformat": 4,
 "nbformat_minor": 2
}
