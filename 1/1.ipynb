{
 "cells": [
  {
   "cell_type": "code",
   "execution_count": 1,
   "metadata": {
    "collapsed": true
   },
   "outputs": [],
   "source": [
    "# Krystian Chmura\n",
    "YEAR = \"2017\""
   ]
  },
  {
   "cell_type": "code",
   "execution_count": 2,
   "metadata": {
    "collapsed": true
   },
   "outputs": [],
   "source": [
    "import glob\n",
    "import json\n",
    "import pathlib\n",
    "import sys\n",
    "import re\n",
    "from decimal import *\n",
    "import matplotlib.pyplot as plt\n",
    "import numpy as np"
   ]
  },
  {
   "cell_type": "code",
   "execution_count": 3,
   "metadata": {
    "collapsed": true
   },
   "outputs": [],
   "source": [
    "def read_judgments_jsons(files):\n",
    "    for path in files:\n",
    "        yield json.loads(pathlib.Path(path).read_text())\n",
    "\n",
    "def items_from_judgments_jsons(judgments):\n",
    "    for judgment in judgments:\n",
    "        for item in judgment[\"items\"]:\n",
    "            yield item\n",
    "\n",
    "def is_correct_judgment_year(year):\n",
    "    return lambda item:item[\"judgmentDate\"][:4] == year\n",
    "\n",
    "def items_in_given_year(files):\n",
    "    judgments_jsons = read_judgments_jsons(files)\n",
    "    items = items_from_judgments_jsons(judgments_jsons)\n",
    "    for item in filter(is_correct_judgment_year(YEAR), items):\n",
    "        yield item\n",
    "            \n",
    "def text_contents_in_given_year(files):\n",
    "    for item in items_in_given_year(files):\n",
    "        yield item[\"textContent\"]"
   ]
  },
  {
   "cell_type": "code",
   "execution_count": 4,
   "metadata": {
    "collapsed": true
   },
   "outputs": [],
   "source": [
    "def get_multiplier(expression):\n",
    "    word_to_multiplier_tuples = {\n",
    "        (\"tysiąc\", \"tysiące\", \"tysiąca\", \"tysięcy\", \"tys\", \"tys.\"): 10**3,\n",
    "        (\"milion\", \"miliony\", \"miliona\", \"milionów\", \"mln\" , \"mln.\"): 10**6,\n",
    "        (\"miliard\", \"miliardy\", \"miliarda\", \"miliardów\", \"mld\", \"mld.\"): 10**9\n",
    "    }\n",
    "    word_to_multiplier = {\n",
    "        word: multiplier\n",
    "        for tup, multiplier in word_to_multiplier_tuples.items()\n",
    "        for word in tup\n",
    "    }\n",
    "\n",
    "    for current_word in word_to_multiplier:\n",
    "        if re.search(\"{}\".format(current_word), expression):\n",
    "            return word_to_multiplier[current_word]\n",
    "\n",
    "    return 1\n",
    "\n",
    "def extract_money_amounts_from_text(text):\n",
    "    number_catch_group = r\"(\\d[\\d,\\.\\s]*)\"\n",
    "    potential_multiplier = r\"(\\s\\w+\\s)?\"\n",
    "    round_brackets = r\"(\\([^\\)]*?\\))?\"\n",
    "\n",
    "    regex = r\"{number_catch_group}\\s*?{potential_multiplier}\\s*?{round_brackets}\\s*?{potential_multiplier}\\s*?zł\".format(\n",
    "        number_catch_group=number_catch_group,\n",
    "        potential_multiplier=potential_multiplier,\n",
    "        round_brackets=round_brackets\n",
    "    )\n",
    "\n",
    "    for match in re.finditer(regex, text):\n",
    "        try:\n",
    "            if match.group(0).find(\"starych\") != -1:\n",
    "                continue\n",
    "\n",
    "            number = match.group(1)\n",
    "\n",
    "            # remove unecessary dots\n",
    "            number = number.replace(\".\", \"\")\n",
    "\n",
    "            # convert polish ',' decimal seperator to english\n",
    "            number = number.replace(\",\", \".\")\n",
    "\n",
    "            # remove whitespaces between digits\n",
    "            number = re.sub(r\"\\s\", \"\", number)\n",
    "            dec = Decimal(number)\n",
    "\n",
    "            m = match.group(0)\n",
    "            m = re.sub(\"\\(.*?\\)\", \"\", m)\n",
    "            \n",
    "            multiplier = get_multiplier(m)\n",
    "            money_amount = int(dec * multiplier)\n",
    "\n",
    "            if money_amount > 10**14:\n",
    "                continue\n",
    "\n",
    "            yield money_amount\n",
    "        except Exception as e:\n",
    "            pass"
   ]
  },
  {
   "cell_type": "code",
   "execution_count": 5,
   "metadata": {},
   "outputs": [
    {
     "name": "stdout",
     "output_type": "stream",
     "text": [
      "3173\n"
     ]
    }
   ],
   "source": [
    "files = glob.glob(\"data/json/judgments*.json\")\n",
    "print(len(files))"
   ]
  },
  {
   "cell_type": "code",
   "execution_count": 6,
   "metadata": {},
   "outputs": [
    {
     "name": "stdout",
     "output_type": "stream",
     "text": [
      "694704\n"
     ]
    }
   ],
   "source": [
    "judgments_jsons = read_judgments_jsons(files)\n",
    "items = items_from_judgments_jsons(judgments_jsons)\n",
    "\n",
    "money_amounts = []\n",
    "\n",
    "for text_content in text_contents_in_given_year(files):\n",
    "    money_amounts.extend(extract_money_amounts_from_text(text_content))\n",
    "\n",
    "print(len(money_amounts))"
   ]
  },
  {
   "cell_type": "code",
   "execution_count": 15,
   "metadata": {
    "collapsed": true
   },
   "outputs": [],
   "source": [
    "def show_histogram(name, data, bins):\n",
    "    plt.figure(figsize=(16, 9))\n",
    "    plt.hist(data, bins)\n",
    "    plt.gca().set_xscale(\"log\")\n",
    "\n",
    "    plt.title(name)\n",
    "    plt.xlabel(\"Money values\")\n",
    "    plt.ylabel(\"Occurrences\")\n",
    "    plt.grid(True)\n",
    "    plt.show()"
   ]
  },
  {
   "cell_type": "code",
   "execution_count": 16,
   "metadata": {},
   "outputs": [
    {
     "data": {
      "image/png": "[encoded data removed]",
      "text/plain": [
       "<matplotlib.figure.Figure at 0x7f972cb711d0>"
      ]
     },
     "metadata": {},
     "output_type": "display_data"
    }
   ],
   "source": [
    "# 1\n",
    "show_histogram(\"All\", money_amounts, bins=np.logspace(0, 16, 100))"
   ]
  },
  {
   "cell_type": "code",
   "execution_count": 17,
   "metadata": {},
   "outputs": [
    {
     "data": {
      "image/png": "[encoded data removed]",
      "text/plain": [
       "<matplotlib.figure.Figure at 0x7f972e3c5898>"
      ]
     },
     "metadata": {},
     "output_type": "display_data"
    }
   ],
   "source": [
    "# 2\n",
    "show_histogram(\"< 1 000 000\",\n",
    "               [x for x in money_amounts if x < 10**6],\n",
    "               bins=np.logspace(0, 6, 100))"
   ]
  },
  {
   "cell_type": "code",
   "execution_count": 18,
   "metadata": {},
   "outputs": [
    {
     "data": {
      "image/png": "[encoded data removed]",
      "text/plain": [
       "<matplotlib.figure.Figure at 0x7f972ce0dcf8>"
      ]
     },
     "metadata": {},
     "output_type": "display_data"
    }
   ],
   "source": [
    "# 2\n",
    "show_histogram(\"> 1 000 000\", \n",
    "               [x for x in money_amounts if x > 10**6],\n",
    "               bins=np.logspace(6, 13, 100))"
   ]
  },
  {
   "cell_type": "code",
   "execution_count": 11,
   "metadata": {},
   "outputs": [
    {
     "name": "stdout",
     "output_type": "stream",
     "text": [
      "1895 / 44719 == 4.24%\n"
     ]
    }
   ],
   "source": [
    "def is_any_referenced_regulation_matched(referenced_regulations):\n",
    "    for referenced_regulation in referenced_regulations:\n",
    "        text = referenced_regulation[\"text\"].lower()\n",
    "        phrazes = (\"kodeks\", \"cywiln\", \"445\", \"23 kwietnia 1964 r\")\n",
    "        if all([re.search(phraze, text) for phraze in phrazes]):\n",
    "            return True\n",
    "    return False\n",
    "\n",
    "number_of_judgments = 0\n",
    "number_of_judgments_containing_given_regulation = 0\n",
    "\n",
    "for item in items_in_given_year(files):\n",
    "    number_of_judgments += 1\n",
    "    if is_any_referenced_regulation_matched(item[\"referencedRegulations\"]):\n",
    "        number_of_judgments_containing_given_regulation += 1\n",
    "    \n",
    "percentage = (100.0 * number_of_judgments_containing_given_regulation) / number_of_judgments\n",
    "\n",
    "# 3\n",
    "print(r\"{} / {} == {:.2f}%\".format(\n",
    "    number_of_judgments_containing_given_regulation, \n",
    "    number_of_judgments,\n",
    "    percentage ))"
   ]
  },
  {
   "cell_type": "code",
   "execution_count": 14,
   "metadata": {},
   "outputs": [
    {
     "name": "stdout",
     "output_type": "stream",
     "text": [
      "14036 / 44719 == 31.39%\n"
     ]
    }
   ],
   "source": [
    "number_of_judgments = 0\n",
    "number_of_judgments_containing_given_word = 0\n",
    "\n",
    "word_forms = (\n",
    "    \"szkoda\", \n",
    "    \"szkodą\", \n",
    "    \"szkodę\", \n",
    "    \"szkodo\", \n",
    "    \"szkody\", \n",
    "    \"szkodzie\", \n",
    "    \"szkodach\", \n",
    "    \"szkodami\", \n",
    "    \"szkodom\", \n",
    "    \"szkód\"\n",
    ")\n",
    "\n",
    "word_forms = [r'\\b' + x + r'\\b' for x in word_forms]\n",
    "    \n",
    "for text_content in text_contents_in_given_year(files):\n",
    "    number_of_judgments += 1\n",
    "\n",
    "    if re.search(\"|\".join(word_forms), text_content):\n",
    "        number_of_judgments_containing_given_word += 1\n",
    "    \n",
    "percentage = (100.0 * number_of_judgments_containing_given_word) / number_of_judgments\n",
    "\n",
    "# 4\n",
    "print(r\"{} / {} == {:.2f}%\".format(\n",
    "    number_of_judgments_containing_given_word, \n",
    "    number_of_judgments,\n",
    "    percentage ))\n"
   ]
  },
  {
   "cell_type": "code",
   "execution_count": null,
   "metadata": {
    "collapsed": true
   },
   "outputs": [],
   "source": []
  }
 ],
 "metadata": {
  "kernelspec": {
   "display_name": "Python 3",
   "language": "python",
   "name": "python3"
  },
  "language_info": {
   "codemirror_mode": {
    "name": "ipython",
    "version": 3
   },
   "file_extension": ".py",
   "mimetype": "text/x-python",
   "name": "python",
   "nbconvert_exporter": "python",
   "pygments_lexer": "ipython3",
   "version": "3.6.4"
  }
 },
 "nbformat": 4,
 "nbformat_minor": 2
}
