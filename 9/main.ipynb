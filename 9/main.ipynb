{
 "cells": [
  {
   "cell_type": "code",
   "execution_count": 1,
   "metadata": {},
   "outputs": [],
   "source": [
    "from gensim.models import Phrases\n",
    "from gensim.models import Word2Vec\n",
    "from gensim.models import KeyedVectors\n",
    "\n",
    "from sklearn.manifold import TSNE\n",
    "\n",
    "import matplotlib.pyplot as plt\n",
    "\n",
    "from pprint import pprint"
   ]
  },
  {
   "cell_type": "code",
   "execution_count": 2,
   "metadata": {},
   "outputs": [],
   "source": [
    " wv = KeyedVectors.load(\"wv\")"
   ]
  },
  {
   "cell_type": "code",
   "execution_count": 3,
   "metadata": {},
   "outputs": [],
   "source": [
    "def transform_word(w):\n",
    "    return \"_\".join(w.lower().split())"
   ]
  },
  {
   "cell_type": "code",
   "execution_count": 4,
   "metadata": {},
   "outputs": [
    {
     "name": "stdout",
     "output_type": "stream",
     "text": [
      "sąd_najwyższy\n",
      "\t('sad_najwyższy', 0.7680203318595886)\n",
      "\t('trybunał_konstytucyjny', 0.7242528200149536)\n",
      "\t('trybunał', 0.6996279358863831)\n",
      "\n",
      "trybunał_konstytucyjny\n",
      "\t('trybunał', 0.9071269035339355)\n",
      "\t('prokurator_generalny', 0.757025420665741)\n",
      "\t('marszałek_sejmu', 0.7365344762802124)\n",
      "\n",
      "kodeks_cywilny\n",
      "\t('kwietnia_1964', 0.5722967982292175)\n",
      "\t('kodeksu_cywilnego', 0.5633471608161926)\n",
      "\t('kodeks_pracy', 0.550175666809082)\n",
      "\n",
      "kpk\n",
      "\t('2kpk', 0.6971564292907715)\n",
      "\t('1kpk', 0.6838507652282715)\n",
      "\t('kpw', 0.6751440167427063)\n",
      "\n",
      "sąd_rejonowy\n",
      "\t('sad_rejonowy', 0.8765138387680054)\n",
      "\t('sąd_okręgowy', 0.8641690611839294)\n",
      "\t('sąd_meriti', 0.786108672618866)\n",
      "\n",
      "szkoda\n",
      "\t('szkoda_ta', 0.7481963038444519)\n",
      "\t('szkoda_majątkowa', 0.7467567324638367)\n",
      "\t('krzywda', 0.6715774536132812)\n",
      "\n",
      "wypadek\n",
      "\t('przypadek', 0.5509796738624573)\n",
      "\t('skutek', 0.5368135571479797)\n",
      "\t('wypadek_komunikacyjny', 0.5219948291778564)\n",
      "\n",
      "kolizja\n",
      "\t('kolizja_drogowa', 0.6997689008712769)\n",
      "\t('interwencja_policji', 0.6849738955497742)\n",
      "\t('interwencja', 0.6441705822944641)\n",
      "\n",
      "szkoda_majątkowa\n",
      "\t('szkoda_ta', 0.7575575113296509)\n",
      "\t('krzywda', 0.7483081221580505)\n",
      "\t('szkoda', 0.7467566728591919)\n",
      "\n",
      "nieszczęście\n",
      "\t('opadł', 0.6327652335166931)\n",
      "\t('porwanie', 0.6257500052452087)\n",
      "\t('ocieranie', 0.6230543255805969)\n",
      "\n",
      "rozwód\n",
      "\t('rozwiązanie_małżeństwa', 0.6852512955665588)\n",
      "\t('separację', 0.6850664019584656)\n",
      "\t('rozwiązaniu_małżeństwa', 0.6430574059486389)\n",
      "\n"
     ]
    }
   ],
   "source": [
    "words = \"\"\"Sąd Najwyższy\n",
    "Trybunał Konstytucyjny\n",
    "kodeks cywilny\n",
    "kpk\n",
    "sąd rejonowy\n",
    "szkoda\n",
    "wypadek\n",
    "kolizja\n",
    "szkoda majątkowa\n",
    "nieszczęście\n",
    "rozwód\"\"\".splitlines()\n",
    "\n",
    "words = [transform_word(w) for w in words]\n",
    "\n",
    "for word in words:\n",
    "    print(word)\n",
    "    for s in wv.most_similar(positive=[word])[:3]:\n",
    "        print(f\"\\t{s}\")\n",
    "    print()\n"
   ]
  },
  {
   "cell_type": "code",
   "execution_count": 5,
   "metadata": {},
   "outputs": [
    {
     "name": "stdout",
     "output_type": "stream",
     "text": [
      "sąd_najwyższy + konstytucja  -  kpc\n",
      "\t('trybunał', 0.6028896570205688)\n",
      "\t('trybunał_konstytucyjny', 0.5823222994804382)\n",
      "\t('prokurator_generalny', 0.5655142664909363)\n",
      "\n",
      "pasażer + kobieta  -  mężczyzna\n",
      "\t('piesza', 0.7144815325737)\n",
      "\t('pasażerka', 0.7127262949943542)\n",
      "\t('kierująca', 0.6991637945175171)\n",
      "\n",
      "samochód + rzeka  -  droga\n",
      "\t('skuter', 0.5155866146087646)\n",
      "\t('kosiarkę_spalinową', 0.5028166770935059)\n",
      "\t('samochód_marki', 0.4929254353046417)\n",
      "\n"
     ]
    }
   ],
   "source": [
    "positives_negatives = [\n",
    "    ((\"Sąd Najwyższy\", \"konstytucja\"), (\"kpc\",)),\n",
    "    ((\"pasażer\", \"kobieta\"), (\"mężczyzna\",)),\n",
    "    ((\"samochód\", \"rzeka\"), (\"droga\",)),\n",
    "]\n",
    "\n",
    "for positives, negatives in positives_negatives:\n",
    "    positives = [transform_word(p) for p in positives]\n",
    "    negatives = [transform_word(n) for n in negatives]\n",
    "\n",
    "    print(\" + \".join(positives) + (\"  -  \" if len(negatives) > 0 else \"\" )+ \"  -  \".join(negatives))\n",
    "    for s in wv.most_similar(positive=positives, negative=negatives)[:3]:\n",
    "        print(f\"\\t{s}\")\n",
    "    print()"
   ]
  },
  {
   "cell_type": "code",
   "execution_count": 8,
   "metadata": {},
   "outputs": [
    {
     "data": {
      "image/png": "[encoded data removed]",
      "text/plain": [
       "<Figure size 1152x648 with 1 Axes>"
      ]
     },
     "metadata": {},
     "output_type": "display_data"
    }
   ],
   "source": [
    "# words = \"\"\"szkoda\n",
    "# strata\n",
    "# uszczerbek\n",
    "# szkoda majątkowa\n",
    "# uszczerbek na zdrowiu\n",
    "# krzywda\n",
    "# niesprawiedliwość\n",
    "# nieszczęście\n",
    "# \"\"\".splitlines()\n",
    "\n",
    "words = \"\"\"szkoda\n",
    "strata\n",
    "uszczerbek\n",
    "szkoda majątkowa\n",
    "krzywda\n",
    "niesprawiedliwość\n",
    "nieszczęście\n",
    "\"\"\".splitlines()\n",
    "\n",
    "\n",
    "vectors = [wv[transform_word(w)] for w in words]\n",
    "vectors_embedded = TSNE(n_components=2, n_iter=5000).fit_transform(vectors)\n",
    "\n",
    "X, Y =  [x[0] for x in vectors_embedded],  [x[1] for x in vectors_embedded]\n",
    "fig, ax = plt.subplots(figsize=(16, 9))\n",
    "ax.scatter(X, Y, s=500)\n",
    "for i, txt in enumerate(words):\n",
    "    ax.annotate(txt, (X[i], Y[i]))\n",
    "    \n",
    "plt.show()"
   ]
  },
  {
   "cell_type": "code",
   "execution_count": null,
   "metadata": {},
   "outputs": [],
   "source": []
  },
  {
   "cell_type": "code",
   "execution_count": null,
   "metadata": {},
   "outputs": [],
   "source": []
  },
  {
   "cell_type": "code",
   "execution_count": null,
   "metadata": {},
   "outputs": [],
   "source": []
  },
  {
   "cell_type": "code",
   "execution_count": null,
   "metadata": {},
   "outputs": [],
   "source": []
  }
 ],
 "metadata": {
  "kernelspec": {
   "display_name": "Python 3",
   "language": "python",
   "name": "python3"
  },
  "language_info": {
   "codemirror_mode": {
    "name": "ipython",
    "version": 3
   },
   "file_extension": ".py",
   "mimetype": "text/x-python",
   "name": "python",
   "nbconvert_exporter": "python",
   "pygments_lexer": "ipython3",
   "version": "3.6.5"
  }
 },
 "nbformat": 4,
 "nbformat_minor": 2
}
