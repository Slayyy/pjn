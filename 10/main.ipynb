{
 "cells": [
  {
   "cell_type": "code",
   "execution_count": 7,
   "metadata": {},
   "outputs": [],
   "source": [
    "from collections import Counter\n",
    "\n",
    "from sklearn.metrics import precision_score\n",
    "from sklearn.metrics import recall_score\n",
    "from sklearn.metrics import f1_score"
   ]
  },
  {
   "cell_type": "code",
   "execution_count": 8,
   "metadata": {},
   "outputs": [
    {
     "name": "stdout",
     "output_type": "stream",
     "text": [
      "Counter({'Muzyka': 3097, 'Informatyka': 1435, 'Polacy': 637})\n"
     ]
    }
   ],
   "source": [
    "test = [line.split(\" \")[0][9:] for line in open(\"test.txt\", \"r\").readlines()]\n",
    "print(Counter(test))"
   ]
  },
  {
   "cell_type": "code",
   "execution_count": 9,
   "metadata": {},
   "outputs": [],
   "source": [
    "pred = [line.split(\" \")[0][9:-1] for line in open(\"pred.txt\", \"r\").readlines()]"
   ]
  },
  {
   "cell_type": "code",
   "execution_count": 10,
   "metadata": {},
   "outputs": [
    {
     "name": "stdout",
     "output_type": "stream",
     "text": [
      "0.9739763887670875\n",
      "0.9818146643451344\n"
     ]
    }
   ],
   "source": [
    "print(precision_score(test, pred, average='macro'))\n",
    "print(precision_score(test, pred, average='micro'))"
   ]
  },
  {
   "cell_type": "code",
   "execution_count": 11,
   "metadata": {},
   "outputs": [
    {
     "name": "stdout",
     "output_type": "stream",
     "text": [
      "0.979908144322622\n",
      "0.9818146643451344\n"
     ]
    }
   ],
   "source": [
    "print(recall_score(test, pred, average='macro'))\n",
    "print(recall_score(test, pred, average='micro'))"
   ]
  },
  {
   "cell_type": "code",
   "execution_count": 12,
   "metadata": {},
   "outputs": [
    {
     "name": "stdout",
     "output_type": "stream",
     "text": [
      "0.9768668047308813\n",
      "0.9818146643451344\n"
     ]
    }
   ],
   "source": [
    "print(f1_score(test, pred, average='macro'))\n",
    "print(f1_score(test, pred, average='micro'))"
   ]
  }
 ],
 "metadata": {
  "kernelspec": {
   "display_name": "Python 3",
   "language": "python",
   "name": "python3"
  },
  "language_info": {
   "codemirror_mode": {
    "name": "ipython",
    "version": 3
   },
   "file_extension": ".py",
   "mimetype": "text/x-python",
   "name": "python",
   "nbconvert_exporter": "python",
   "pygments_lexer": "ipython3",
   "version": "3.6.5"
  }
 },
 "nbformat": 4,
 "nbformat_minor": 2
}
