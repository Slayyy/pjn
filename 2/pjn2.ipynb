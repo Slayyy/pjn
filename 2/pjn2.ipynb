{
 "cells": [
  {
   "cell_type": "code",
   "execution_count": 1,
   "metadata": {},
   "outputs": [],
   "source": [
    "import re\n",
    "import matplotlib.pyplot as plt\n",
    "from elasticsearch import Elasticsearch\n",
    "\n",
    "es = Elasticsearch(\"localhost:9200\")\n",
    "\n",
    "index_doc = {\"index\": \"judgment\", \"doc_type\": \"doc\"}"
   ]
  },
  {
   "cell_type": "code",
   "execution_count": 2,
   "metadata": {},
   "outputs": [
    {
     "name": "stdout",
     "output_type": "stream",
     "text": [
      "44719\n"
     ]
    }
   ],
   "source": [
    "# Number of judges\n",
    "\n",
    "print(es.count(**index_doc, body={\"query\":{\"match_all\": {}}})[\"count\"])"
   ]
  },
  {
   "cell_type": "code",
   "execution_count": 3,
   "metadata": {},
   "outputs": [
    {
     "name": "stdout",
     "output_type": "stream",
     "text": [
      "14036\n"
     ]
    }
   ],
   "source": [
    "# 6\n",
    "query = {\n",
    "    \"query\": {\n",
    "        \"term\": {\n",
    "            \"text_content\" : \"szkoda\"\n",
    "        }\n",
    "    }\n",
    "}\n",
    "\n",
    "print(es.count(**index_doc, body=query)[\"count\"])"
   ]
  },
  {
   "cell_type": "code",
   "execution_count": 4,
   "metadata": {},
   "outputs": [
    {
     "name": "stdout",
     "output_type": "stream",
     "text": [
      "1124\n"
     ]
    }
   ],
   "source": [
    "# 7\n",
    "query = {\n",
    "    \"query\": {\n",
    "        \"match_phrase\" : {\n",
    "            \"text_content\" : \"trwały uszczerbek na zdrowiu\"\n",
    "        }\n",
    "    }\n",
    "}\n",
    "print(es.count(**index_doc, body=query)[\"count\"])"
   ]
  },
  {
   "cell_type": "code",
   "execution_count": 5,
   "metadata": {},
   "outputs": [
    {
     "name": "stdout",
     "output_type": "stream",
     "text": [
      "1236\n"
     ]
    }
   ],
   "source": [
    "# 8\n",
    "query = {\n",
    "    \"query\": {\n",
    "        \"match_phrase\" : {\n",
    "            \"text_content\" : {\n",
    "                \"query\": \"trwały uszczerbek na zdrowiu\",\n",
    "                \"slop\": 2\n",
    "            }\n",
    "        }\n",
    "    }\n",
    "}\n",
    "print(es.count(**index_doc, body=query)[\"count\"])"
   ]
  },
  {
   "cell_type": "code",
   "execution_count": 6,
   "metadata": {},
   "outputs": [
    {
     "name": "stdout",
     "output_type": "stream",
     "text": [
      "Radosław Olewczyński: 270\n",
      "Zofia Szcześniewicz: 269\n",
      "Jacek Kępa: 264\n"
     ]
    }
   ],
   "source": [
    "# 9\n",
    "query = {\n",
    "    \"size\": 0,\n",
    "    \"aggs\" : {\n",
    "        \"judges\" : {\n",
    "            \"terms\" : { \n",
    "                \"field\" : \"judges\",\n",
    "                \"size\": 3\n",
    "            }\n",
    "        }\n",
    "    }\n",
    "}\n",
    "\n",
    "res = es.search(**index_doc, body=query)\n",
    "for bucket in res[\"aggregations\"][\"judges\"][\"buckets\"]:\n",
    "    print(\"{}: {}\".format(bucket[\"key\"], bucket[\"doc_count\"]))"
   ]
  },
  {
   "cell_type": "code",
   "execution_count": 7,
   "metadata": {},
   "outputs": [
    {
     "data": {
      "image/png": "[encoded data removed]",
      "text/plain": [
       "<matplotlib.figure.Figure at 0x7f16282989e8>"
      ]
     },
     "metadata": {},
     "output_type": "display_data"
    }
   ],
   "source": [
    "# 10\n",
    "query = {\n",
    "     \"size\":0,\n",
    "     \"aggs\" : {\n",
    "        \"judgments_per_month\" : {\n",
    "            \"date_histogram\" : {\n",
    "                \"field\" : \"date\",\n",
    "                \"interval\" : \"month\"\n",
    "            }\n",
    "        }\n",
    "    }\n",
    "}\n",
    "\n",
    "res = es.search(**index_doc, body=query)\n",
    "buckets = res[\"aggregations\"][\"judgments_per_month\"][\"buckets\"]\n",
    "\n",
    "data = []\n",
    "for bucket in buckets:\n",
    "    month = int(re.match(\"2017-(\\d\\d)\", bucket[\"key_as_string\"])[1])\n",
    "    data.extend([month] * bucket[\"doc_count\"])\n",
    "\n",
    "bins = [x for x in range(1, 14)]\n",
    "\n",
    "plt.figure(figsize=(16, 7))\n",
    "plt.hist(data, bins = bins, edgecolor=\"k\", align='left')\n",
    "plt.xlabel(\"Months\")\n",
    "plt.xticks(bins[:-1])\n",
    "plt.ylabel(\"Occurrences\")\n",
    "plt.grid(True)\n",
    "plt.show()"
   ]
  }
 ],
 "metadata": {
  "kernelspec": {
   "display_name": "Python 3",
   "language": "python",
   "name": "python3"
  },
  "language_info": {
   "codemirror_mode": {
    "name": "ipython",
    "version": 3
   },
   "file_extension": ".py",
   "mimetype": "text/x-python",
   "name": "python",
   "nbconvert_exporter": "python",
   "pygments_lexer": "ipython3",
   "version": "3.6.4"
  }
 },
 "nbformat": 4,
 "nbformat_minor": 2
}
