{
 "cells": [
  {
   "cell_type": "code",
   "execution_count": 1,
   "metadata": {
    "collapsed": true
   },
   "outputs": [],
   "source": [
    "import math\n",
    "import json\n",
    "from collections import Counter\n",
    "from math import *\n",
    "from glob import glob\n",
    "import os\n",
    "import numpy as np\n",
    "import pickle\n",
    "from scipy import sparse\n",
    "from tqdm import tqdm\n",
    "import matplotlib.pyplot as plt\n",
    "\n",
    "from sklearn.model_selection import GridSearchCV\n",
    "from sklearn.metrics import classification_report\n",
    "from sklearn.svm import SVC\n",
    "from sklearn.svm import LinearSVC\n",
    "\n",
    "from sklearn.metrics import f1_score\n",
    "from sklearn.metrics import recall_score\n",
    "from sklearn.metrics import precision_score\n",
    "\n",
    "\n",
    "from dataclasses import dataclass\n"
   ]
  },
  {
   "cell_type": "code",
   "execution_count": 2,
   "metadata": {
    "collapsed": true
   },
   "outputs": [],
   "source": [
    "@dataclass\n",
    "class Scores:        \n",
    "    precision_micro: float\n",
    "    precision_macro: float\n",
    "        \n",
    "    recall_micro: float\n",
    "    recall_macro: float\n",
    "    \n",
    "    f1_micro: float\n",
    "    f1_macro: float"
   ]
  },
  {
   "cell_type": "code",
   "execution_count": 3,
   "metadata": {},
   "outputs": [],
   "source": [
    "def case(c):\n",
    "    with open(f\"{c}/train.pkl\", \"rb\") as f:\n",
    "        X_train = pickle.load(f)\n",
    "    with open(f\"{c}/test.pkl\", \"rb\") as f:\n",
    "        X_test = pickle.load(f)\n",
    "\n",
    "    Y_train = json.load(open(f\"{c}/train_groups.json\"))\n",
    "    Y_test = json.load(open(f\"{c}/test_groups.json\"))\n",
    "    \n",
    "    print(f\"----{c}----\\n\")\n",
    "    print(f\"X_train.shape {X_train.shape}\")\n",
    "    print(f\"X_test.shape {X_test.shape}\")\n",
    "    \n",
    "    counter = Counter()\n",
    "    counter.update(Y_train)\n",
    "    counter.update(Y_test)\n",
    "    print(counter.most_common())\n",
    "\n",
    "    tuned_parameters = [{\"C\": [1, 10, 100, 1000, 2000]}]\n",
    "        \n",
    "    clf = GridSearchCV(\n",
    "        LinearSVC(), \n",
    "        tuned_parameters, \n",
    "        cv=5,       \n",
    "        scoring='f1_macro'\n",
    "    )\n",
    "\n",
    "    clf.fit(X_train, Y_train)\n",
    "    print(clf.best_params_)\n",
    "\n",
    "    Y_res = clf.predict(X_test)\n",
    "    print(classification_report(Y_test, Y_res))\n",
    "        \n",
    "    return Scores(\n",
    "        precision_micro=precision_score(Y_test, Y_res, average='micro'),\n",
    "        precision_macro=precision_score(Y_test, Y_res, average='macro'),\n",
    "            \n",
    "        recall_micro=recall_score(Y_test, Y_res, average='micro'),\n",
    "        recall_macro=recall_score(Y_test, Y_res, average='macro'),\n",
    "\n",
    "        f1_micro=f1_score(Y_test, Y_res, average='micro'),\n",
    "        f1_macro=f1_score(Y_test, Y_res, average='macro'),\n",
    "    )"
   ]
  },
  {
   "cell_type": "code",
   "execution_count": 4,
   "metadata": {},
   "outputs": [
    {
     "name": "stdout",
     "output_type": "stream",
     "text": [
      "----normal----\n",
      "\n",
      "X_train.shape (27518, 83907)\n",
      "X_test.shape (9176, 83907)\n",
      "[('A?C.*', 18109), ('A?K.*', 7468), ('A?U.*', 6747), ('A?P.*', 1911), ('G.*', 1511), ('W.*', 838), ('Am.*', 94), ('R.*', 16)]\n"
     ]
    },
    {
     "name": "stderr",
     "output_type": "stream",
     "text": [
      "/usr/lib/python3.6/site-packages/sklearn/metrics/classification.py:1135: UndefinedMetricWarning: F-score is ill-defined and being set to 0.0 in labels with no predicted samples.\n",
      "  'precision', 'predicted', average, warn_for)\n",
      "/usr/lib/python3.6/site-packages/sklearn/metrics/classification.py:1135: UndefinedMetricWarning: F-score is ill-defined and being set to 0.0 in labels with no predicted samples.\n",
      "  'precision', 'predicted', average, warn_for)\n",
      "/usr/lib/python3.6/site-packages/sklearn/metrics/classification.py:1135: UndefinedMetricWarning: F-score is ill-defined and being set to 0.0 in labels with no predicted samples.\n",
      "  'precision', 'predicted', average, warn_for)\n",
      "/usr/lib/python3.6/site-packages/sklearn/metrics/classification.py:1135: UndefinedMetricWarning: F-score is ill-defined and being set to 0.0 in labels with no predicted samples.\n",
      "  'precision', 'predicted', average, warn_for)\n",
      "/usr/lib/python3.6/site-packages/sklearn/metrics/classification.py:1135: UndefinedMetricWarning: F-score is ill-defined and being set to 0.0 in labels with no predicted samples.\n",
      "  'precision', 'predicted', average, warn_for)\n",
      "/usr/lib/python3.6/site-packages/sklearn/metrics/classification.py:1135: UndefinedMetricWarning: F-score is ill-defined and being set to 0.0 in labels with no predicted samples.\n",
      "  'precision', 'predicted', average, warn_for)\n",
      "/usr/lib/python3.6/site-packages/sklearn/metrics/classification.py:1135: UndefinedMetricWarning: F-score is ill-defined and being set to 0.0 in labels with no predicted samples.\n",
      "  'precision', 'predicted', average, warn_for)\n"
     ]
    },
    {
     "name": "stdout",
     "output_type": "stream",
     "text": [
      "{'C': 1000}\n",
      "             precision    recall  f1-score   support\n",
      "\n",
      "      A?C.*       0.97      0.99      0.98      4528\n",
      "      A?K.*       0.99      0.99      0.99      1867\n",
      "      A?P.*       0.97      0.96      0.96       478\n",
      "      A?U.*       1.00      1.00      1.00      1687\n",
      "       Am.*       0.93      0.58      0.72        24\n",
      "        G.*       0.87      0.76      0.81       378\n",
      "        R.*       1.00      0.50      0.67         4\n",
      "        W.*       0.99      0.94      0.97       210\n",
      "\n",
      "avg / total       0.98      0.98      0.98      9176\n",
      "\n",
      "Scores(precision_micro=0.9776591107236269, precision_macro=0.9654111897165458, recall_micro=0.9776591107236269, recall_macro=0.8403843534417088, f1_micro=0.9776591107236269, f1_macro=0.8868637211412562)\n"
     ]
    }
   ],
   "source": [
    "normal_scores = case(\"normal\")\n",
    "print(normal_scores)"
   ]
  },
  {
   "cell_type": "code",
   "execution_count": 5,
   "metadata": {},
   "outputs": [
    {
     "name": "stdout",
     "output_type": "stream",
     "text": [
      "----lemmatised----\n",
      "\n",
      "X_train.shape (27518, 26780)\n",
      "X_test.shape (9176, 26780)\n",
      "[('A?C.*', 18109), ('A?K.*', 7468), ('A?U.*', 6747), ('A?P.*', 1911), ('G.*', 1511), ('W.*', 838), ('Am.*', 94), ('R.*', 16)]\n"
     ]
    },
    {
     "name": "stderr",
     "output_type": "stream",
     "text": [
      "/usr/lib/python3.6/site-packages/sklearn/metrics/classification.py:1135: UndefinedMetricWarning: F-score is ill-defined and being set to 0.0 in labels with no predicted samples.\n",
      "  'precision', 'predicted', average, warn_for)\n",
      "/usr/lib/python3.6/site-packages/sklearn/metrics/classification.py:1135: UndefinedMetricWarning: F-score is ill-defined and being set to 0.0 in labels with no predicted samples.\n",
      "  'precision', 'predicted', average, warn_for)\n",
      "/usr/lib/python3.6/site-packages/sklearn/metrics/classification.py:1135: UndefinedMetricWarning: F-score is ill-defined and being set to 0.0 in labels with no predicted samples.\n",
      "  'precision', 'predicted', average, warn_for)\n",
      "/usr/lib/python3.6/site-packages/sklearn/metrics/classification.py:1135: UndefinedMetricWarning: F-score is ill-defined and being set to 0.0 in labels with no predicted samples.\n",
      "  'precision', 'predicted', average, warn_for)\n",
      "/usr/lib/python3.6/site-packages/sklearn/metrics/classification.py:1135: UndefinedMetricWarning: F-score is ill-defined and being set to 0.0 in labels with no predicted samples.\n",
      "  'precision', 'predicted', average, warn_for)\n",
      "/usr/lib/python3.6/site-packages/sklearn/metrics/classification.py:1135: UndefinedMetricWarning: F-score is ill-defined and being set to 0.0 in labels with no predicted samples.\n",
      "  'precision', 'predicted', average, warn_for)\n",
      "/usr/lib/python3.6/site-packages/sklearn/metrics/classification.py:1135: UndefinedMetricWarning: F-score is ill-defined and being set to 0.0 in labels with no predicted samples.\n",
      "  'precision', 'predicted', average, warn_for)\n",
      "/usr/lib/python3.6/site-packages/sklearn/metrics/classification.py:1135: UndefinedMetricWarning: F-score is ill-defined and being set to 0.0 in labels with no predicted samples.\n",
      "  'precision', 'predicted', average, warn_for)\n",
      "/usr/lib/python3.6/site-packages/sklearn/metrics/classification.py:1135: UndefinedMetricWarning: F-score is ill-defined and being set to 0.0 in labels with no predicted samples.\n",
      "  'precision', 'predicted', average, warn_for)\n",
      "/usr/lib/python3.6/site-packages/sklearn/metrics/classification.py:1135: UndefinedMetricWarning: F-score is ill-defined and being set to 0.0 in labels with no predicted samples.\n",
      "  'precision', 'predicted', average, warn_for)\n",
      "/usr/lib/python3.6/site-packages/sklearn/metrics/classification.py:1135: UndefinedMetricWarning: F-score is ill-defined and being set to 0.0 in labels with no predicted samples.\n",
      "  'precision', 'predicted', average, warn_for)\n",
      "/usr/lib/python3.6/site-packages/sklearn/metrics/classification.py:1135: UndefinedMetricWarning: F-score is ill-defined and being set to 0.0 in labels with no predicted samples.\n",
      "  'precision', 'predicted', average, warn_for)\n",
      "/usr/lib/python3.6/site-packages/sklearn/metrics/classification.py:1135: UndefinedMetricWarning: F-score is ill-defined and being set to 0.0 in labels with no predicted samples.\n",
      "  'precision', 'predicted', average, warn_for)\n",
      "/usr/lib/python3.6/site-packages/sklearn/metrics/classification.py:1135: UndefinedMetricWarning: F-score is ill-defined and being set to 0.0 in labels with no predicted samples.\n",
      "  'precision', 'predicted', average, warn_for)\n",
      "/usr/lib/python3.6/site-packages/sklearn/metrics/classification.py:1135: UndefinedMetricWarning: F-score is ill-defined and being set to 0.0 in labels with no predicted samples.\n",
      "  'precision', 'predicted', average, warn_for)\n"
     ]
    },
    {
     "name": "stdout",
     "output_type": "stream",
     "text": [
      "{'C': 2000}\n",
      "             precision    recall  f1-score   support\n",
      "\n",
      "      A?C.*       0.98      0.98      0.98      4528\n",
      "      A?K.*       0.99      0.99      0.99      1867\n",
      "      A?P.*       0.97      0.96      0.96       478\n",
      "      A?U.*       1.00      1.00      1.00      1687\n",
      "       Am.*       0.91      0.83      0.87        24\n",
      "        G.*       0.83      0.78      0.81       378\n",
      "        R.*       1.00      0.50      0.67         4\n",
      "        W.*       0.97      0.95      0.96       210\n",
      "\n",
      "avg / total       0.98      0.98      0.98      9176\n",
      "\n",
      "Scores(precision_micro=0.9770052310374892, precision_macro=0.955239463868291, recall_micro=0.9770052310374892, recall_macro=0.8750407095541589, f1_micro=0.9770052310374892, f1_macro=0.9044193580815469)\n"
     ]
    }
   ],
   "source": [
    "lemmatised_scores = case(\"lemmatised\")\n",
    "print(lemmatised_scores)"
   ]
  },
  {
   "cell_type": "code",
   "execution_count": 6,
   "metadata": {},
   "outputs": [
    {
     "data": {
      "image/png": "[encoded data removed]",
      "text/plain": [
       "<matplotlib.figure.Figure at 0x7f06d71984e0>"
      ]
     },
     "metadata": {},
     "output_type": "display_data"
    }
   ],
   "source": [
    "normal = (\n",
    "    normal_scores.precision_micro, \n",
    "    normal_scores.precision_macro, \n",
    "    normal_scores.recall_micro,\n",
    "    normal_scores.recall_macro,\n",
    "    normal_scores.f1_micro,\n",
    "    normal_scores.f1_macro,\n",
    ")\n",
    "          \n",
    "lemmatised = (\n",
    "\n",
    "    lemmatised_scores.precision_micro, \n",
    "    lemmatised_scores.precision_macro, \n",
    "    lemmatised_scores.recall_micro,\n",
    "    normal_scores.recall_macro,\n",
    "    lemmatised_scores.f1_micro,\n",
    "    lemmatised_scores.f1_macro,\n",
    ")\n",
    "\n",
    "ind = np.arange(len(normal)) \n",
    "width = 0.35       \n",
    "plt.figure(figsize=(16, 9))\n",
    "plt.bar(ind, normal, width, label='normal')\n",
    "plt.bar(ind + width, lemmatised, width, label='lemmatised')\n",
    "\n",
    "plt.xticks(\n",
    "    ind + width / 2, \n",
    "    (\n",
    "        'Precision micro', \n",
    "        'Precision macro', \n",
    "        'Recall micro', \n",
    "        'Recall macro', \n",
    "        'F1 micro',\n",
    "        'F1 macro'\n",
    "    )\n",
    ")\n",
    "plt.yticks([x/20 for x in range(21)])\n",
    "\n",
    "plt.legend(loc='best')\n",
    "plt.show()"
   ]
  },
  {
   "cell_type": "code",
   "execution_count": null,
   "metadata": {
    "collapsed": true
   },
   "outputs": [],
   "source": []
  },
  {
   "cell_type": "code",
   "execution_count": null,
   "metadata": {
    "collapsed": true
   },
   "outputs": [],
   "source": []
  }
 ],
 "metadata": {
  "kernelspec": {
   "display_name": "Python 3",
   "language": "python",
   "name": "python3"
  },
  "language_info": {
   "codemirror_mode": {
    "name": "ipython",
    "version": 3
   },
   "file_extension": ".py",
   "mimetype": "text/x-python",
   "name": "python",
   "nbconvert_exporter": "python",
   "pygments_lexer": "ipython3",
   "version": "3.6.4"
  }
 },
 "nbformat": 4,
 "nbformat_minor": 2
}
