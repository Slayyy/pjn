{
 "cells": [
  {
   "cell_type": "code",
   "execution_count": 1,
   "metadata": {},
   "outputs": [],
   "source": [
    "import matplotlib.pyplot as plt\n",
    "import json\n",
    "import re"
   ]
  },
  {
   "cell_type": "code",
   "execution_count": 2,
   "metadata": {},
   "outputs": [],
   "source": [
    "frequence_list = json.load(open(\"frequence_list.json\", \"r\"))"
   ]
  },
  {
   "cell_type": "code",
   "execution_count": 3,
   "metadata": {},
   "outputs": [
    {
     "data": {
      "image/png": "[encoded data removed]",
      "text/plain": [
       "<matplotlib.figure.Figure at 0x7fe35565fdd8>"
      ]
     },
     "metadata": {},
     "output_type": "display_data"
    }
   ],
   "source": [
    "x = [x for x in range(len(frequence_list))]\n",
    "y = [y for x, y in frequence_list]\n",
    "\n",
    "plt.figure(figsize=(16, 7))\n",
    "plt.scatter(x, y, alpha=0.1, c=\"green\")\n",
    "plt.gca().set_yscale(\"log\")\n",
    "\n",
    "\n",
    "plt.xlabel(\"Position\")\n",
    "plt.ylabel(\"Occurrences\")\n",
    "plt.show()"
   ]
  },
  {
   "cell_type": "code",
   "execution_count": 4,
   "metadata": {},
   "outputs": [
    {
     "name": "stdout",
     "output_type": "stream",
     "text": [
      "4623869\n"
     ]
    }
   ],
   "source": [
    "polish_words = set()\n",
    "\n",
    "for line in open(\"polimorfologik-2.1.txt\", \"r\").readlines():\n",
    "    l, r = re.match(\"^([^;]+);([^;]+)\", line.lower()).group(1, 2)\n",
    "    polish_words.update((l, r))\n",
    "    \n",
    "print(len(polish_words))"
   ]
  },
  {
   "cell_type": "code",
   "execution_count": 5,
   "metadata": {},
   "outputs": [
    {
     "name": "stdout",
     "output_type": "stream",
     "text": [
      "45300\n"
     ]
    }
   ],
   "source": [
    "not_in_polish_words = [x[0] for x in frequence_list if x[0] not in polish_words]\n",
    "print(len(not_in_polish_words))\n"
   ]
  },
  {
   "cell_type": "code",
   "execution_count": 6,
   "metadata": {},
   "outputs": [
    {
     "name": "stdout",
     "output_type": "stream",
     "text": [
      "trzewikowska\n",
      "zkoda\n",
      "przytchawicze\n",
      "zalaminował\n",
      "pryzmowe\n",
      "organizacyjnoprawną\n",
      "poddewastowanych\n",
      "świede\n",
      "raalte\n",
      "trybulec\n",
      "wzp\n",
      "musiwykazać\n",
      "jednoczesnie\n",
      "federal\n",
      "metycylinowrażliwym\n",
      "subterapeutycznych\n",
      "zmostkowanie\n",
      "śródręczo\n",
      "jastrzebski\n",
      "pozaleczniczych\n",
      "chruscińska\n",
      "wcześniejz\n",
      "fiskalizowane\n",
      "przerzucalności\n",
      "przeiczenie\n",
      "itron\n",
      "średniomięśniowe\n",
      "konsorcyjnym\n",
      "determinowaloby\n",
      "nowowybranych\n"
     ]
    }
   ],
   "source": [
    "import random\n",
    "random.shuffle(not_in_polish_words)\n",
    "print(not_in_polish_words[:30])"
   ]
  },
  {
   "cell_type": "code",
   "execution_count": 7,
   "metadata": {},
   "outputs": [],
   "source": [
    "from collections import Counter\n",
    "\n",
    "WORDS = Counter({k: v for (k, v) in frequence_list})\n",
    "\n",
    "\n",
    "def P(word, N=sum(WORDS.values())): \n",
    "    \"Probability of `word`.\"\n",
    "    return WORDS[word] / N\n",
    "\n",
    "def correction(word): \n",
    "    \"Most probable spelling correction for word.\"\n",
    "    return max(candidates(word), key=P)\n",
    "\n",
    "def candidates(word): \n",
    "    \"Generate possible spelling corrections for word.\"\n",
    "    return (known([word]) or known(edits1(word)) or known(edits2(word)) or [word])\n",
    "\n",
    "def known(words): \n",
    "    \"The subset of `words` that appear in the dictionary of WORDS.\"\n",
    "    return set(w for w in words if w in WORDS)\n",
    "\n",
    "def edits1(word):\n",
    "    \"All edits that are one edit away from `word`.\"\n",
    "    letters    = 'aąbcćdeęfghijklłmnńoóprsśtuwyzźż'\n",
    "    splits     = [(word[:i], word[i:])    for i in range(len(word) + 1)]\n",
    "    deletes    = [L + R[1:]               for L, R in splits if R]\n",
    "    transposes = [L + R[1] + R[0] + R[2:] for L, R in splits if len(R)>1]\n",
    "    replaces   = [L + c + R[1:]           for L, R in splits if R for c in letters]\n",
    "    inserts    = [L + c + R               for L, R in splits for c in letters]\n",
    "    return set(deletes + transposes + replaces + inserts)\n",
    "\n",
    "def edits2(word): \n",
    "    \"All edits that are two edits away from `word`.\"\n",
    "    return (e2 for e1 in edits1(word) for e2 in edits1(e1))"
   ]
  },
  {
   "cell_type": "code",
   "execution_count": 8,
   "metadata": {},
   "outputs": [
    {
     "name": "stdout",
     "output_type": "stream",
     "text": [
      "trzewikowska         -> trzewikowska        \n",
      "zkoda                -> zkoda               \n",
      "przytchawicze        -> przytchawicze       \n",
      "zalaminował          -> zalaminował         \n",
      "pryzmowe             -> pryzmowe            \n",
      "organizacyjnoprawną  -> organizacyjnoprawną \n",
      "poddewastowanych     -> poddewastowanych    \n",
      "świede               -> świede              \n",
      "raalte               -> raalte              \n",
      "trybulec             -> trybulec            \n",
      "wzp                  -> wzp                 \n",
      "musiwykazać          -> musiwykazać         \n",
      "jednoczesnie         -> jednoczesnie        \n",
      "federal              -> federal             \n",
      "metycylinowrażliwym  -> metycylinowrażliwym \n",
      "subterapeutycznych   -> subterapeutycznych  \n",
      "zmostkowanie         -> zmostkowanie        \n",
      "śródręczo            -> śródręczo           \n",
      "jastrzebski          -> jastrzebski         \n",
      "pozaleczniczych      -> pozaleczniczych     \n",
      "chruscińska          -> chruscińska         \n",
      "wcześniejz           -> wcześniejz          \n",
      "fiskalizowane        -> fiskalizowane       \n",
      "przerzucalności      -> przerzucalności     \n",
      "przeiczenie          -> przeiczenie         \n",
      "itron                -> itron               \n",
      "średniomięśniowe     -> średniomięśniowe    \n",
      "konsorcyjnym         -> konsorcyjnym        \n",
      "determinowaloby      -> determinowaloby     \n",
      "nowowybranych        -> nowowybranych       \n"
     ]
    }
   ],
   "source": [
    "print(\n",
    "    \"\\n\".join(\n",
    "        [\"{:20s} -> {:20s}\".format(w, correction(w)) for w in not_in_polish_words[:30]]\n",
    "    )\n",
    ")"
   ]
  },
  {
   "cell_type": "code",
   "execution_count": null,
   "metadata": {},
   "outputs": [],
   "source": []
  },
  {
   "cell_type": "code",
   "execution_count": null,
   "metadata": {},
   "outputs": [],
   "source": []
  }
 ],
 "metadata": {
  "kernelspec": {
   "display_name": "Python 3",
   "language": "python",
   "name": "python3"
  },
  "language_info": {
   "codemirror_mode": {
    "name": "ipython",
    "version": 3
   },
   "file_extension": ".py",
   "mimetype": "text/x-python",
   "name": "python",
   "nbconvert_exporter": "python",
   "pygments_lexer": "ipython3",
   "version": "3.6.4"
  }
 },
 "nbformat": 4,
 "nbformat_minor": 2
}
