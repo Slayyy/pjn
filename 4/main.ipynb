{
 "cells": [
  {
   "cell_type": "code",
   "execution_count": 1,
   "metadata": {},
   "outputs": [],
   "source": [
    "import math\n",
    "import json\n",
    "from collections import Counter"
   ]
  },
  {
   "cell_type": "code",
   "execution_count": 2,
   "metadata": {},
   "outputs": [],
   "source": [
    "unigrams_sorted_list = json.load(open(\"unigram_frequence_list.json\", \"r\"))\n",
    "bigrams_sorted_list = json.load(open(\"bigram_frequence_list.json\", \"r\"))"
   ]
  },
  {
   "cell_type": "code",
   "execution_count": 3,
   "metadata": {},
   "outputs": [
    {
     "name": "stdout",
     "output_type": "stream",
     "text": [
      "[('w', 6484533), ('z', 3607405), ('i', 2362331), ('na', 2296676), ('do', 1907006), ('nie', 1631304), ('o', 1321759), ('że', 1230009), ('r', 1109156), ('art', 1020887)]\n",
      "[('z dnia', 596156), ('w dniu', 297267), ('z art', 277758), ('w tym', 243244), ('na podstawie', 240391), ('w sprawie', 227660), ('art ust', 181616), ('zgodnie z', 176079), ('na rzecz', 172860), ('od dnia', 147272)]\n"
     ]
    }
   ],
   "source": [
    "unigrams = Counter({word: frequency for (word, frequency) in unigrams_sorted_list})\n",
    "bigrams = Counter({word: frequency for (word, frequency) in bigrams_sorted_list})\n",
    "\n",
    "print(unigrams.most_common(10))\n",
    "print(bigrams.most_common(10))"
   ]
  },
  {
   "cell_type": "code",
   "execution_count": 4,
   "metadata": {},
   "outputs": [
    {
     "name": "stdout",
     "output_type": "stream",
     "text": [
      "124704966\n"
     ]
    }
   ],
   "source": [
    "unigrams_N = sum(unigrams.values())\n",
    "print(unigrams_N)"
   ]
  },
  {
   "cell_type": "code",
   "execution_count": 5,
   "metadata": {},
   "outputs": [],
   "source": [
    "def calculate_mpi(bigram):\n",
    "    left, right = (unigrams[w]/ unigrams_N for w in bigram.split(\" \"))\n",
    "    return math.log((bigrams[bigram] * unigrams_N)/(left*right) )\n",
    "\n",
    "    \n",
    "bigram_to_mpi_sorted_by_mpi = sorted(\n",
    "    [(bigram, calculate_mpi(bigram)) for (bigram, _) in bigrams_sorted_list], \n",
    "    key=lambda x: x[1], \n",
    "    reverse=True\n",
    ")"
   ]
  },
  {
   "cell_type": "code",
   "execution_count": 6,
   "metadata": {},
   "outputs": [
    {
     "name": "stdout",
     "output_type": "stream",
     "text": [
      "('nadtwardówkowej neuroplastyki', 55.92438370030173)\n",
      "('rozdzielaczu podłogówki', 55.92438370030173)\n",
      "('onkologiem radioterapeutą', 55.92438370030173)\n",
      "('bernadety kudrykiewicz', 55.92438370030173)\n",
      "('wpi sany', 55.92438370030173)\n",
      "('zastrze żeniem', 55.92438370030173)\n",
      "('wcho dzącej', 55.92438370030173)\n",
      "('finan sowe', 55.92438370030173)\n",
      "('zmar łemu', 55.92438370030173)\n",
      "('nieade kwatnej', 55.92438370030173)\n",
      "('rekompen saty', 55.92438370030173)\n",
      "('postrze gany', 55.92438370030173)\n",
      "('przecho dzeniu', 55.92438370030173)\n",
      "('leukocy tozę', 55.92438370030173)\n",
      "('anato miczne', 55.92438370030173)\n",
      "('admini strowanej', 55.92438370030173)\n",
      "('elektrotech niki', 55.92438370030173)\n",
      "('wygó rowana', 55.92438370030173)\n",
      "('nega tywnych', 55.92438370030173)\n",
      "('wyrzą dzoną', 55.92438370030173)\n",
      "('wywo łać', 55.92438370030173)\n",
      "('pono wnego', 55.92438370030173)\n",
      "('elektrolizera elektrolizer', 55.92438370030173)\n",
      "('gawryckiej lipiety', 55.92438370030173)\n",
      "('canalis regionis', 55.92438370030173)\n",
      "('lumbo secularis', 55.92438370030173)\n",
      "('henrykiem dziemińskim', 55.92438370030173)\n",
      "('trwalszego wytrzymalszego', 55.92438370030173)\n",
      "('grawerunek inkrustacje', 55.92438370030173)\n",
      "('urwanym korbowodem', 55.92438370030173)\n"
     ]
    }
   ],
   "source": [
    "print(\"\\n\".join(map(str, bigram_to_mpi_sorted_by_mpi[:30])))"
   ]
  },
  {
   "cell_type": "code",
   "execution_count": 9,
   "metadata": {},
   "outputs": [],
   "source": [
    "def llr(bigram):\n",
    "    N = unigrams_N\n",
    "    l, r = bigram.split(\" \")\n",
    "    \n",
    "    both = bigrams[bigram]\n",
    "    a = unigrams[l] - both\n",
    "    b = unigrams[r] - both\n",
    "    none_of = N - (both + a + b)\n",
    "    def H(occurences):\n",
    "        return sum([(k/N) * math.log(k/N + (1 if k == 0 else 0)) for k in occurences])\n",
    "    \n",
    "    return 2*N*(\n",
    "        H([both, a, b, none_of]) - \n",
    "        H([both + b, a + none_of]) - \n",
    "        H([both + a, b + none_of]) \n",
    "    )"
   ]
  },
  {
   "cell_type": "code",
   "execution_count": 12,
   "metadata": {},
   "outputs": [],
   "source": [
    "bigram_to_llr = [\n",
    "    (bigram, llr(bigram)) \n",
    "    for (bigram, _) in bigrams_sorted_list\n",
    "]\n",
    "bigram_to_llr.sort(key=lambda x: x[1], reverse=True)"
   ]
  },
  {
   "cell_type": "code",
   "execution_count": 13,
   "metadata": {},
   "outputs": [
    {
     "name": "stdout",
     "output_type": "stream",
     "text": [
      "('z dnia', 3108071.712296739)\n",
      "('na podstawie', 1836017.7094078425)\n",
      "('sygn akt', 1773710.984174425)\n",
      "('w dniu', 1637546.5465705697)\n",
      "('art ust', 1471094.9647826226)\n",
      "('sąd okręgowy', 1365059.7240593222)\n",
      "('ubezpieczeń społecznych', 1280213.9405113272)\n",
      "('na rzecz', 1219950.6141052875)\n",
      "('sąd rejonowy', 1167523.0855249052)\n",
      "('zgodnie z', 1135872.7389421836)\n",
      "('pozbawienia wolności', 971096.9357529806)\n",
      "('kwotę zł', 958208.8391099136)\n",
      "('w sprawie', 952285.1036218051)\n",
      "('zw z', 871818.0855134428)\n",
      "('z art', 834872.0670056775)\n",
      "('w tym', 824449.5774353379)\n",
      "('sądu najwyższego', 816300.8673711743)\n",
      "('podstawie art', 811796.5527923347)\n",
      "('sądu rejonowego', 771018.564539923)\n",
      "('w zw', 740439.1484645201)\n",
      "('materiału dowodowego', 737388.6812905886)\n",
      "('od dnia', 680877.3314866236)\n",
      "('organ rentowy', 673068.795267755)\n",
      "('związku z', 663067.9057022961)\n",
      "('ocenie sądu', 660283.0814062576)\n",
      "('rzeczypospolitej polskiej', 646392.5001787504)\n",
      "('art kk', 620780.5447817616)\n",
      "('niniejszej sprawie', 620416.9255520706)\n",
      "('w związku', 615914.1449196155)\n",
      "('sądu okręgowego', 614467.2335948077)\n"
     ]
    }
   ],
   "source": [
    "print(\"\\n\".join(map(str, bigram_to_llr[:30])))"
   ]
  }
 ],
 "metadata": {
  "kernelspec": {
   "display_name": "Python 3",
   "language": "python",
   "name": "python3"
  },
  "language_info": {
   "codemirror_mode": {
    "name": "ipython",
    "version": 3
   },
   "file_extension": ".py",
   "mimetype": "text/x-python",
   "name": "python",
   "nbconvert_exporter": "python",
   "pygments_lexer": "ipython3",
   "version": "3.6.4"
  }
 },
 "nbformat": 4,
 "nbformat_minor": 2
}
